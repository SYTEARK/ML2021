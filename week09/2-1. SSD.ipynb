{
 "cells": [
  {
   "cell_type": "markdown",
   "id": "ae956cec",
   "metadata": {},
   "source": [
    "# Chapter 2 SSD"
   ]
  },
  {
   "cell_type": "markdown",
   "id": "a8d91be7",
   "metadata": {},
   "source": [
    "## 2.1. Single Shot MultiBox Detector (1512.02325)"
   ]
  },
  {
   "cell_type": "markdown",
   "id": "08323055",
   "metadata": {},
   "source": [
    "### 2.1.1. Introduction"
   ]
  },
  {
   "cell_type": "markdown",
   "id": "f5770b27",
   "metadata": {},
   "source": [
    "* 물체 감지는 한 장의 사진에 포함된 여러 물체에 대해 영역과 이름을 확인하는 작업\n",
    "    * BBOX: Bounding Box의 약어로 물체의 위치를 나타내는 테두리\n",
    "    * Confidence: 감지 신뢰도. 최대 1의 값을 가질 수 있으며 1에 가까울수록 명확하게 감지.\n",
    "    \n",
    "![SSD Example](ssd_example.png)"
   ]
  },
  {
   "cell_type": "markdown",
   "id": "b1eb8866",
   "metadata": {},
   "source": [
    "### 2.1.2. Input & Output of SSD"
   ]
  },
  {
   "cell_type": "markdown",
   "id": "898e4394",
   "metadata": {},
   "source": [
    "* Input is an image\n",
    "* Output\n",
    "  * Location & Size of Bounding Box\n",
    "  * Label of Bounding Box\n",
    "  * Confidence\n",
    "  \n",
    "![BBOX](bbox.png)"
   ]
  },
  {
   "cell_type": "markdown",
   "id": "872f0707",
   "metadata": {},
   "source": [
    "### 2.1.3. VOC Dataset"
   ]
  },
  {
   "cell_type": "markdown",
   "id": "8c2ab4d3",
   "metadata": {},
   "source": [
    "* PASCAL Visual Object Classes Challenge\n",
    "  * PASCAL : Pattern Analysis, Statistical Modelling and Computational Learning (유럽 연구 커뮤니티)\n",
    "  ![PASCAL](PASCAL.png)\n",
    "  \n",
    "  * 보통 2007, 2012 데이터가 주로 사용. 여기서는 VOC2012 데이터셋을 사용할 예정\n",
    "    * Classes: 20 + 1 (Background)\n",
    "    * Training Data: 5,717\n",
    "    * Validation Data: 5,823\n",
    "    * Target은 BBOX의 사각형 좌상단 좌표 + 우하단 좌표 + Label 로 주어짐\n",
    "    * PASCAL VOC 데이터는 좌측 상단 원점이 (0,0)이 아니라 (1,1)임."
   ]
  },
  {
   "cell_type": "markdown",
   "id": "5f087f56",
   "metadata": {},
   "source": [
    "### 2.1.4. SSD를 활용한 물체감지 흐름"
   ]
  },
  {
   "cell_type": "markdown",
   "id": "0c0b61f7",
   "metadata": {},
   "source": [
    "* SSD는 Input image 크기를 300x300으로 하는 SSD300과 512x512로 처리하는 SSD512가 있음. 여기서는 SSD300을 다룸\n",
    "* SSD에서는 BBOX의 정보를 출력하여 박스를 도출하는 것이 아니라 일반 사각형인 DBOX(Default Box)를 준비해두고 어떻게 변형시키는지에 대한 정보를 출력함. 이를 Offset 정보라 함.\n",
    "  * DBOX의 정보가 $(cx_d, cy_d, w_d, h_d)$라면 Offset 정보는 $(\\Delta cx, \\Delta cy, \\Delta w, \\Delta h)$로 주어짐.\n",
    "  * 계산식은 다음과 같이 주어짐.\n",
    "  $$\n",
    "  \\begin{aligned}\n",
    "  cx &= cx_d + 0.1\\Delta cx \\times w_d \\\\\n",
    "  cy &= cy_d + 0.1\\Delta cy \\times h_d \\\\\n",
    "  w &= w_d \\times \\exp(0.2\\Delta w) \\\\\n",
    "  h &= h_d \\times \\exp(0.2\\Delta h)\n",
    "  \\end{aligned}\n",
    "  $$\n",
    "  * 이 계산식은 이론적으로 도출된 것이 아닌 SSD에서 규정하고 Deep Learning을 통해 학습하면서 생겨난 계산식."
   ]
  },
  {
   "cell_type": "markdown",
   "id": "1a07453c",
   "metadata": {},
   "source": [
    "![SSD Flow 1](ssd_flow1.png)\n",
    "![SSD Flow 2](ssd_flow2.png)"
   ]
  },
  {
   "cell_type": "markdown",
   "id": "033779d9",
   "metadata": {},
   "source": [
    "1. Resize to 300 x 300 & Normalize\n",
    "2. Prepare DBox 8,732 for SSD300 (All DBox for each images is same)\n",
    "3. Input pre-processed image to SSDnet & # of output is 8,732 x (21 + 4) = 218,300\n",
    "4. Extract high confidence DBoxs (In SSD300, extract top 200 DBoxs)\n",
    "5. Using offset, transform DBox to BBox. If overwrapped, then remain top 1 BBox only.\n",
    "6. If confidence of BBoxs is higher than threshold, return the BBox & label."
   ]
  },
  {
   "cell_type": "markdown",
   "id": "9541dab0",
   "metadata": {},
   "source": [
    "## 2.2. Implement Dataset"
   ]
  },
  {
   "cell_type": "markdown",
   "id": "b329c8bd",
   "metadata": {},
   "source": [
    "[SSD: Single Shot MultiBox Object Detector, in PyTorch](https://github.com/amdegroot/ssd.pytorch)\n",
    "\n",
    "![SSD PyTorch](ssd_pytorch.jpg)"
   ]
  },
  {
   "cell_type": "code",
   "execution_count": null,
   "id": "df6f0659",
   "metadata": {},
   "outputs": [],
   "source": []
  }
 ],
 "metadata": {
  "kernelspec": {
   "display_name": "Python 3 (ipykernel)",
   "language": "python",
   "name": "python3"
  },
  "language_info": {
   "codemirror_mode": {
    "name": "ipython",
    "version": 3
   },
   "file_extension": ".py",
   "mimetype": "text/x-python",
   "name": "python",
   "nbconvert_exporter": "python",
   "pygments_lexer": "ipython3",
   "version": "3.10.1"
  }
 },
 "nbformat": 4,
 "nbformat_minor": 5
}
