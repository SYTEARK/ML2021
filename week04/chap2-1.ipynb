{
 "cells": [
  {
   "cell_type": "markdown",
   "source": [
    "<h1 style=\"text-align:center\">Single Shot MultiBox Detector</h1>\n",
    "\n",
    "<p style=\"text-align:center\">arXiv: 1512.02325</p>\n"
   ],
   "metadata": {
    "collapsed": true,
    "pycharm": {
     "name": "#%% md\n"
    }
   }
  },
  {
   "cell_type": "markdown",
   "source": [
    "## 2.1.1 Introduction\n",
    "\n",
    "![](img/object_detection.png)\n",
    "\n",
    "![Reference: 1512.02325](img/ssd.png)\n",
    "\n",
    "* Single Shot MultiBox Detector (SSD)는 한 장의 사진에 포함된 여러 물체에 대해 영역과 이름을 확인하는 작업.\n",
    "\n",
    "* 이미지에서 물체의 위치를 나타내는 테두리를 Bounding Box (BBox)라고 하고, 0에서 1사이 값인 Confidence Score로 얼마나 명확하게 감지했는지를 알 수 있음."
   ],
   "metadata": {
    "collapsed": false,
    "pycharm": {
     "name": "#%% md\n"
    }
   }
  },
  {
   "cell_type": "markdown",
   "source": [
    "## 2.1.2 Object Detection Flow with SSD\n",
    "\n",
    "SSD는 저화질에서도 잘 작동하므로 "
   ],
   "metadata": {
    "collapsed": false,
    "pycharm": {
     "name": "#%%\n"
    }
   }
  }
 ],
 "metadata": {
  "kernelspec": {
   "name": "python3",
   "display_name": "Python 3.9.7 64-bit"
  },
  "language_info": {
   "codemirror_mode": {
    "name": "ipython",
    "version": 2
   },
   "file_extension": ".py",
   "mimetype": "text/x-python",
   "name": "python",
   "nbconvert_exporter": "python",
   "pygments_lexer": "ipython2",
   "version": "3.9.7"
  },
  "interpreter": {
   "hash": "767d51c1340bd893661ea55ea3124f6de3c7a262a8b4abca0554b478b1e2ff90"
  }
 },
 "nbformat": 4,
 "nbformat_minor": 2
}