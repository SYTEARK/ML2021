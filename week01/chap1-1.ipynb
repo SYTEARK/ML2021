{
 "cells": [
  {
   "cell_type": "markdown",
   "metadata": {},
   "source": [
    "# Chapter 1 Transfer Learning (VGG)"
   ]
  },
  {
   "cell_type": "markdown",
   "metadata": {},
   "source": [
    "## 1.1.1 ImageNet Dataset & VGG-16 Model\n",
    "\n",
    "### 1) ImageNet Dataset\n",
    "\n",
    "ImageNet Dataset은 MNIST, CIFAR 데이터셋과 더불어 굉장히 유명한 데이터셋이다. 다른 두 개의 데이터셋은 굉장히 작은 데이터셋으로 아이디어 검증에 사용된다.\n",
    "\n",
    "* MNIST: 28x28 손글씨 사진 (학습 데이터 6만 장, 테스트 데이터 1만 장)  \n",
    "    ![출처: https://www.google.com/url?sa=i&url=https%3A%2F%2Fko.wikipedia.org%2Fwiki%2FMNIST_%25EB%258D%25B0%25EC%259D%25B4%25ED%2584%25B0%25EB%25B2%25A0%25EC%259D%25B4%25EC%258A%25A4&psig=AOvVaw05FlDMkezOEfvgGw6PkpA6&ust=1629965252703000&source=images&cd=vfe&ved=0CAoQjRxqFwoTCJDVo_fby_ICFQAAAAAdAAAAABAD](images/MnistExamples.png)\n",
    "\n",
    "* CIFAR-10: 10개의 클래스로 구분된 32x32 사물 사진 (학습 데이터 5만 장, 테스트 데이터 1만 장)  \n",
    "    ![출처: https://www.google.com/url?sa=i&url=https%3A%2F%2Fgithub.com%2Fdnddnjs%2Fpytorch-cifar10&psig=AOvVaw0s2ba3rx9gg6a7iOhwcexL&ust=1629965198624000&source=images&cd=vfe&ved=0CAoQjRxqFwoTCNjb593by_ICFQAAAAAdAAAAABAV](images/cifar-10.jpg)\n",
    "\n",
    "반면, ImageNet 데이터셋은 대표적인 대규모 데이터셋이다. 전체 데이터셋에 포함된 이미지는 1,000만 장이 넘으며 이는 Amazon Mechanical Turk 서비스를 이용하여 일일이 사람이 분류한 데이터셋이다. 이에 대한 간략한 설명은 다음과 같다.\n",
    "\n",
    "* ImageNet Dataset: 스탠포드 대학교에서 인터넷 화상을 수집해 분류한 데이터셋으로 ILSVRC(ImageNet Large Scale Visual Recognition Challenge)대회에서 사용  \n",
    "    ![출처: https://www.google.com/url?sa=i&url=https%3A%2F%2Fdevopedia.org%2Fimagenet&psig=AOvVaw0Id-a6a10d8h0KDF4m-f1A&ust=1629965635671000&source=images&cd=vfe&ved=0CAoQjRxqFwoTCOjOv6ndy_ICFQAAAAAdAAAAABAD](images/imagenet.png)\n",
    "\n",
    "특히 PyTorch는 ImageNet 데이터셋 중 ILSVRC2012 데이터셋(클래스: 1천 개, 학습 데이터: 120만 장, 검증 데이터: 5만 장, 테스트 데이터: 10만 장)으로 신경망의 parameter를 학습한 다양한 모델을 사용할 수 있다.\n",
    "\n",
    "### 2) VGG-16 Model\n",
    "\n",
    "VGG-16 모델은 2014년 ILSVRC에서 2위를 차지한 합성곱 신경망이다. (비록 우승은 GoogleNet이었지만, 구조의 간결함과 사용의 편이성으로 인해 VGG-16이 GoogleNet보다 더 각광받았다.) 옥스포드 대학교의 VGG팀이 제작하였으며 16층으로 구성되었기때문에 VGG-16으로 불린다. 11, 13, 19층 버전의 모델도 존재하며 구성이 간단하기 때문에 다양한 딥러닝 응용 기술의 기반 네트워크로 사용한다. \n",
    "\n",
    "![출처: https://bskyvision.com/504](images/vggnet.png)"
   ]
  },
  {
   "cell_type": "markdown",
   "metadata": {},
   "source": [
    "## 1.1.2 Prepare Projects\n",
    "\n",
    "### 1) Make Directories\n",
    "\n",
    "```sh\n",
    "mkdir data\n",
    "mkdir utils\n",
    "```\n",
    "\n",
    "### 2) Download Image\n",
    "\n",
    "```sh\n",
    "cd data\n",
    "wget https://cdn.pixabay.com/photo/2018/10/05/02/26/goldenretriever-3724972_960_720.jpg\n",
    "```\n",
    "\n",
    "### 3) Install Package (For Arch based Distros)\n",
    "\n",
    "```sh\n",
    "# Install PyTorch (SIMD)\n",
    "yay -S python-pytorch-opt\n",
    "yay -S python-pillow-simd\n",
    "yay -S libpng\n",
    "\n",
    "# Install torchvision\n",
    "git clone https://github.com/pytorch/vision\n",
    "cd vision\n",
    "python setup.py install --user\n",
    "```"
   ]
  },
  {
   "cell_type": "markdown",
   "metadata": {},
   "source": [
    "## 1.1.4 Import Packages"
   ]
  },
  {
   "cell_type": "code",
   "execution_count": 1,
   "metadata": {},
   "outputs": [],
   "source": [
    "import numpy as np\n",
    "import json\n",
    "from PIL import Image\n",
    "import matplotlib.pyplot as plt\n",
    "%matplotlib inline\n",
    "\n",
    "import torch\n",
    "import torchvision\n",
    "from torchvision import models, transforms"
   ]
  },
  {
   "cell_type": "code",
   "execution_count": 2,
   "metadata": {},
   "outputs": [
    {
     "name": "stdout",
     "output_type": "stream",
     "text": [
      "PyTorch Version:  1.9.0\n",
      "Torchvision Version:  0.11.0a0+b72129c\n"
     ]
    }
   ],
   "source": [
    "# Check Versions\n",
    "print(\"PyTorch Version: \", torch.__version__)\n",
    "print(\"Torchvision Version: \", torchvision.__version__)"
   ]
  },
  {
   "cell_type": "markdown",
   "metadata": {},
   "source": [
    "## 1.1.5 Read VGG-16"
   ]
  },
  {
   "cell_type": "code",
   "execution_count": 3,
   "metadata": {},
   "outputs": [
    {
     "data": {
      "text/plain": [
       "VGG(\n",
       "  (features): Sequential(\n",
       "    (0): Conv2d(3, 64, kernel_size=(3, 3), stride=(1, 1), padding=(1, 1))\n",
       "    (1): ReLU(inplace=True)\n",
       "    (2): Conv2d(64, 64, kernel_size=(3, 3), stride=(1, 1), padding=(1, 1))\n",
       "    (3): ReLU(inplace=True)\n",
       "    (4): MaxPool2d(kernel_size=2, stride=2, padding=0, dilation=1, ceil_mode=False)\n",
       "    (5): Conv2d(64, 128, kernel_size=(3, 3), stride=(1, 1), padding=(1, 1))\n",
       "    (6): ReLU(inplace=True)\n",
       "    (7): Conv2d(128, 128, kernel_size=(3, 3), stride=(1, 1), padding=(1, 1))\n",
       "    (8): ReLU(inplace=True)\n",
       "    (9): MaxPool2d(kernel_size=2, stride=2, padding=0, dilation=1, ceil_mode=False)\n",
       "    (10): Conv2d(128, 256, kernel_size=(3, 3), stride=(1, 1), padding=(1, 1))\n",
       "    (11): ReLU(inplace=True)\n",
       "    (12): Conv2d(256, 256, kernel_size=(3, 3), stride=(1, 1), padding=(1, 1))\n",
       "    (13): ReLU(inplace=True)\n",
       "    (14): Conv2d(256, 256, kernel_size=(3, 3), stride=(1, 1), padding=(1, 1))\n",
       "    (15): ReLU(inplace=True)\n",
       "    (16): MaxPool2d(kernel_size=2, stride=2, padding=0, dilation=1, ceil_mode=False)\n",
       "    (17): Conv2d(256, 512, kernel_size=(3, 3), stride=(1, 1), padding=(1, 1))\n",
       "    (18): ReLU(inplace=True)\n",
       "    (19): Conv2d(512, 512, kernel_size=(3, 3), stride=(1, 1), padding=(1, 1))\n",
       "    (20): ReLU(inplace=True)\n",
       "    (21): Conv2d(512, 512, kernel_size=(3, 3), stride=(1, 1), padding=(1, 1))\n",
       "    (22): ReLU(inplace=True)\n",
       "    (23): MaxPool2d(kernel_size=2, stride=2, padding=0, dilation=1, ceil_mode=False)\n",
       "    (24): Conv2d(512, 512, kernel_size=(3, 3), stride=(1, 1), padding=(1, 1))\n",
       "    (25): ReLU(inplace=True)\n",
       "    (26): Conv2d(512, 512, kernel_size=(3, 3), stride=(1, 1), padding=(1, 1))\n",
       "    (27): ReLU(inplace=True)\n",
       "    (28): Conv2d(512, 512, kernel_size=(3, 3), stride=(1, 1), padding=(1, 1))\n",
       "    (29): ReLU(inplace=True)\n",
       "    (30): MaxPool2d(kernel_size=2, stride=2, padding=0, dilation=1, ceil_mode=False)\n",
       "  )\n",
       "  (avgpool): AdaptiveAvgPool2d(output_size=(7, 7))\n",
       "  (classifier): Sequential(\n",
       "    (0): Linear(in_features=25088, out_features=4096, bias=True)\n",
       "    (1): ReLU(inplace=True)\n",
       "    (2): Dropout(p=0.5, inplace=False)\n",
       "    (3): Linear(in_features=4096, out_features=4096, bias=True)\n",
       "    (4): ReLU(inplace=True)\n",
       "    (5): Dropout(p=0.5, inplace=False)\n",
       "    (6): Linear(in_features=4096, out_features=1000, bias=True)\n",
       "  )\n",
       ")"
      ]
     },
     "execution_count": 3,
     "metadata": {},
     "output_type": "execute_result"
    }
   ],
   "source": [
    "# Create an instance of VGG-16\n",
    "net = models.vgg16(pretrained=True)\n",
    "net.eval()"
   ]
  },
  {
   "cell_type": "markdown",
   "metadata": {},
   "source": [
    "* VGG-16의 네트워크 구성은 `features`와 `classifier` 두 모듈로 구성되어 있으며, 각 모듈 속에 합성곱(Convolution) 층과 전결합(Linear) 층이 있다. \n",
    "    ![출처: https://neurohive.io/en/popular-networks/vgg16/](images/vgg16.png)\n",
    "    \n",
    "  \n",
    "* VGG-16이 16계층이란 것은 Activation(ReLU), Pooling, Dropout을 제외한 Convolution layer와 Linear Layer 수를 말하는 것이다."
   ]
  },
  {
   "cell_type": "code",
   "execution_count": 4,
   "metadata": {},
   "outputs": [],
   "source": [
    "# Torch summary (`pip install torchsummary`)\n",
    "from torchsummary import summary as summary_"
   ]
  },
  {
   "cell_type": "code",
   "execution_count": 5,
   "metadata": {},
   "outputs": [
    {
     "name": "stderr",
     "output_type": "stream",
     "text": [
      "/usr/lib/python3.9/site-packages/torch/nn/functional.py:718: UserWarning: Named tensors and all their associated APIs are an experimental feature and subject to change. Please do not use them for anything important until they are released as stable. (Triggered internally at  /build/python-pytorch/src/pytorch-1.9.0-opt/c10/core/TensorImpl.h:1153.)\n",
      "  return torch.max_pool2d(input, kernel_size, stride, padding, dilation, ceil_mode)\n"
     ]
    },
    {
     "name": "stdout",
     "output_type": "stream",
     "text": [
      "----------------------------------------------------------------\n",
      "        Layer (type)               Output Shape         Param #\n",
      "================================================================\n",
      "            Conv2d-1         [-1, 64, 224, 224]           1,792\n",
      "              ReLU-2         [-1, 64, 224, 224]               0\n",
      "            Conv2d-3         [-1, 64, 224, 224]          36,928\n",
      "              ReLU-4         [-1, 64, 224, 224]               0\n",
      "         MaxPool2d-5         [-1, 64, 112, 112]               0\n",
      "            Conv2d-6        [-1, 128, 112, 112]          73,856\n",
      "              ReLU-7        [-1, 128, 112, 112]               0\n",
      "            Conv2d-8        [-1, 128, 112, 112]         147,584\n",
      "              ReLU-9        [-1, 128, 112, 112]               0\n",
      "        MaxPool2d-10          [-1, 128, 56, 56]               0\n",
      "           Conv2d-11          [-1, 256, 56, 56]         295,168\n",
      "             ReLU-12          [-1, 256, 56, 56]               0\n",
      "           Conv2d-13          [-1, 256, 56, 56]         590,080\n",
      "             ReLU-14          [-1, 256, 56, 56]               0\n",
      "           Conv2d-15          [-1, 256, 56, 56]         590,080\n",
      "             ReLU-16          [-1, 256, 56, 56]               0\n",
      "        MaxPool2d-17          [-1, 256, 28, 28]               0\n",
      "           Conv2d-18          [-1, 512, 28, 28]       1,180,160\n",
      "             ReLU-19          [-1, 512, 28, 28]               0\n",
      "           Conv2d-20          [-1, 512, 28, 28]       2,359,808\n",
      "             ReLU-21          [-1, 512, 28, 28]               0\n",
      "           Conv2d-22          [-1, 512, 28, 28]       2,359,808\n",
      "             ReLU-23          [-1, 512, 28, 28]               0\n",
      "        MaxPool2d-24          [-1, 512, 14, 14]               0\n",
      "           Conv2d-25          [-1, 512, 14, 14]       2,359,808\n",
      "             ReLU-26          [-1, 512, 14, 14]               0\n",
      "           Conv2d-27          [-1, 512, 14, 14]       2,359,808\n",
      "             ReLU-28          [-1, 512, 14, 14]               0\n",
      "           Conv2d-29          [-1, 512, 14, 14]       2,359,808\n",
      "             ReLU-30          [-1, 512, 14, 14]               0\n",
      "        MaxPool2d-31            [-1, 512, 7, 7]               0\n",
      "AdaptiveAvgPool2d-32            [-1, 512, 7, 7]               0\n",
      "           Linear-33                 [-1, 4096]     102,764,544\n",
      "             ReLU-34                 [-1, 4096]               0\n",
      "          Dropout-35                 [-1, 4096]               0\n",
      "           Linear-36                 [-1, 4096]      16,781,312\n",
      "             ReLU-37                 [-1, 4096]               0\n",
      "          Dropout-38                 [-1, 4096]               0\n",
      "           Linear-39                 [-1, 1000]       4,097,000\n",
      "================================================================\n",
      "Total params: 138,357,544\n",
      "Trainable params: 138,357,544\n",
      "Non-trainable params: 0\n",
      "----------------------------------------------------------------\n",
      "Input size (MB): 0.57\n",
      "Forward/backward pass size (MB): 218.78\n",
      "Params size (MB): 527.79\n",
      "Estimated Total Size (MB): 747.15\n",
      "----------------------------------------------------------------\n"
     ]
    }
   ],
   "source": [
    "summary_(net, input_size=(3, 224, 224), device=\"cpu\")"
   ]
  },
  {
   "cell_type": "markdown",
   "metadata": {},
   "source": [
    "### 번외 - Convolution & Pooling\n",
    "\n",
    "Convolution은 이미지에서 Feature를 추출할 때 사용되는 방법이다. 일반적으로 이미지보다 작은 Kernel을 가지고 이미지를 순회하면서 내적하여 구한 Scalar 값을 모아 이미지를 축소한다.\n",
    "\n",
    "![출처: Deep Learning with PyTorch](images/convolution.png)\n",
    "\n",
    "![출처: https://gaussian37.github.io/dl-concept-covolution_operation/](images/conv.gif)\n",
    "\n",
    "Pooling은 summary statistics를 사용하여 이미지를 resizing하는 연산이다. 대표적으로는 Max pooling과 Mean pooling이 사용된다. Convolution과 다르게 Pooling에는 가중치가 사용되지 않으며 채널 수가 변하지 않는다.\n",
    "\n",
    "![출처: Deep Learning with PyTorch](images/maxpool.png)\n"
   ]
  },
  {
   "cell_type": "markdown",
   "metadata": {},
   "source": [
    "#### 1) Download CIFAR-10 & ToTensor"
   ]
  },
  {
   "cell_type": "code",
   "execution_count": 6,
   "metadata": {},
   "outputs": [],
   "source": [
    "#!mkdir -p \"data/cifar10\""
   ]
  },
  {
   "cell_type": "code",
   "execution_count": 7,
   "metadata": {},
   "outputs": [
    {
     "name": "stdout",
     "output_type": "stream",
     "text": [
      "Files already downloaded and verified\n",
      "Files already downloaded and verified\n"
     ]
    }
   ],
   "source": [
    "# Downloading CIFAR-10\n",
    "from torchvision import datasets\n",
    "data_path = \"data/cifar10/\"\n",
    "cifar10 = datasets.CIFAR10(data_path, train=True, download=True)\n",
    "cifar10_val = datasets.CIFAR10(data_path, train=False, download=True)"
   ]
  },
  {
   "cell_type": "code",
   "execution_count": 8,
   "metadata": {},
   "outputs": [
    {
     "data": {
      "text/plain": [
       "(torchvision.datasets.cifar.CIFAR10,\n",
       " torchvision.datasets.vision.VisionDataset,\n",
       " torch.utils.data.dataset.Dataset,\n",
       " typing.Generic,\n",
       " object)"
      ]
     },
     "execution_count": 8,
     "metadata": {},
     "output_type": "execute_result"
    }
   ],
   "source": [
    "type(cifar10).__mro__"
   ]
  },
  {
   "cell_type": "code",
   "execution_count": 9,
   "metadata": {},
   "outputs": [
    {
     "data": {
      "text/plain": [
       "50000"
      ]
     },
     "execution_count": 9,
     "metadata": {},
     "output_type": "execute_result"
    }
   ],
   "source": [
    "len(cifar10)"
   ]
  },
  {
   "cell_type": "code",
   "execution_count": 10,
   "metadata": {},
   "outputs": [
    {
     "data": {
      "text/plain": [
       "10000"
      ]
     },
     "execution_count": 10,
     "metadata": {},
     "output_type": "execute_result"
    }
   ],
   "source": [
    "len(cifar10_val)"
   ]
  },
  {
   "cell_type": "code",
   "execution_count": 11,
   "metadata": {},
   "outputs": [
    {
     "data": {
      "text/plain": [
       "(<PIL.Image.Image image mode=RGB size=32x32 at 0x7F130DB853D0>, 1)"
      ]
     },
     "execution_count": 11,
     "metadata": {},
     "output_type": "execute_result"
    }
   ],
   "source": [
    "img, label = cifar10[99]\n",
    "img, label"
   ]
  },
  {
   "cell_type": "code",
   "execution_count": 12,
   "metadata": {},
   "outputs": [
    {
     "data": {
      "image/png": "[encoded data removed]",
      "text/plain": [
       "<Figure size 432x288 with 1 Axes>"
      ]
     },
     "metadata": {
      "needs_background": "light"
     },
     "output_type": "display_data"
    }
   ],
   "source": [
    "plt.imshow(img)\n",
    "plt.show()"
   ]
  },
  {
   "cell_type": "code",
   "execution_count": 13,
   "metadata": {},
   "outputs": [
    {
     "data": {
      "text/plain": [
       "torch.Size([3, 32, 32])"
      ]
     },
     "execution_count": 13,
     "metadata": {},
     "output_type": "execute_result"
    }
   ],
   "source": [
    "to_tensor = transforms.ToTensor()\n",
    "img_t = to_tensor(img)\n",
    "img_t.shape # 3-channel(RGB) 32x32 image"
   ]
  },
  {
   "cell_type": "code",
   "execution_count": 14,
   "metadata": {},
   "outputs": [],
   "source": [
    "tensor_cifar10 = datasets.CIFAR10(data_path, train=True, download=False, transform=transforms.ToTensor())"
   ]
  },
  {
   "cell_type": "code",
   "execution_count": 15,
   "metadata": {},
   "outputs": [
    {
     "data": {
      "text/plain": [
       "torch.Tensor"
      ]
     },
     "execution_count": 15,
     "metadata": {},
     "output_type": "execute_result"
    }
   ],
   "source": [
    "img_t, _ = tensor_cifar10[99]\n",
    "type(img_t)"
   ]
  },
  {
   "cell_type": "code",
   "execution_count": 16,
   "metadata": {},
   "outputs": [
    {
     "data": {
      "text/plain": [
       "(torch.Size([3, 32, 32]), torch.float32)"
      ]
     },
     "execution_count": 16,
     "metadata": {},
     "output_type": "execute_result"
    }
   ],
   "source": [
    "img_t.shape, img_t.dtype"
   ]
  },
  {
   "cell_type": "code",
   "execution_count": 17,
   "metadata": {},
   "outputs": [
    {
     "data": {
      "text/plain": [
       "(tensor(0.), tensor(1.))"
      ]
     },
     "execution_count": 17,
     "metadata": {},
     "output_type": "execute_result"
    }
   ],
   "source": [
    "img_t.min(), img_t.max()"
   ]
  },
  {
   "cell_type": "code",
   "execution_count": 18,
   "metadata": {},
   "outputs": [
    {
     "data": {
      "image/png": "[encoded data removed]",
      "text/plain": [
       "<Figure size 432x288 with 1 Axes>"
      ]
     },
     "metadata": {
      "needs_background": "light"
     },
     "output_type": "display_data"
    }
   ],
   "source": [
    "plt.imshow(img_t.permute(1, 2, 0)) # CxHxW -> HxWxC\n",
    "plt.show()"
   ]
  },
  {
   "cell_type": "markdown",
   "metadata": {},
   "source": [
    "#### 2) Normalization"
   ]
  },
  {
   "cell_type": "code",
   "execution_count": 19,
   "metadata": {},
   "outputs": [
    {
     "data": {
      "text/plain": [
       "torch.Size([3, 32, 32, 50000])"
      ]
     },
     "execution_count": 19,
     "metadata": {},
     "output_type": "execute_result"
    }
   ],
   "source": [
    "imgs = torch.stack([img_t for img_t, _ in tensor_cifar10], dim=3)\n",
    "imgs.shape"
   ]
  },
  {
   "cell_type": "code",
   "execution_count": 20,
   "metadata": {},
   "outputs": [
    {
     "data": {
      "text/plain": [
       "torch.Size([3, 51200000])"
      ]
     },
     "execution_count": 20,
     "metadata": {},
     "output_type": "execute_result"
    }
   ],
   "source": [
    "imgs.view(3,-1).shape # 3x?: ?는 PyTorch가 알아서 맞춤"
   ]
  },
  {
   "cell_type": "code",
   "execution_count": 21,
   "metadata": {},
   "outputs": [
    {
     "data": {
      "text/plain": [
       "tensor([0.4914, 0.4822, 0.4465])"
      ]
     },
     "execution_count": 21,
     "metadata": {},
     "output_type": "execute_result"
    }
   ],
   "source": [
    "imgs.view(3, -1).mean(dim=1) # (3,51200000) -> mean -> (3,)"
   ]
  },
  {
   "cell_type": "code",
   "execution_count": 22,
   "metadata": {},
   "outputs": [
    {
     "data": {
      "text/plain": [
       "tensor([0.2470, 0.2435, 0.2616])"
      ]
     },
     "execution_count": 22,
     "metadata": {},
     "output_type": "execute_result"
    }
   ],
   "source": [
    "imgs.view(3, -1).std(dim=1)"
   ]
  },
  {
   "cell_type": "code",
   "execution_count": 23,
   "metadata": {},
   "outputs": [
    {
     "data": {
      "text/plain": [
       "Normalize(mean=(0.4914, 0.4822, 0.4465), std=(0.247, 0.2435, 0.2616))"
      ]
     },
     "execution_count": 23,
     "metadata": {},
     "output_type": "execute_result"
    }
   ],
   "source": [
    "transforms.Normalize((0.4914, 0.4822, 0.4465), (0.2470, 0.2435, 0.2616))"
   ]
  },
  {
   "cell_type": "code",
   "execution_count": 24,
   "metadata": {},
   "outputs": [],
   "source": [
    "# With ToTensor\n",
    "transformed_cifar10 = datasets.CIFAR10(\n",
    "    data_path,\n",
    "    train=True,\n",
    "    download=False,\n",
    "    transform=transforms.Compose([\n",
    "        transforms.ToTensor(),\n",
    "        transforms.Normalize(\n",
    "            (0.4914, 0.4822, 0.4465),\n",
    "            (0.2470, 0.2435, 0.2616)\n",
    "        )\n",
    "    ])\n",
    ")"
   ]
  },
  {
   "cell_type": "code",
   "execution_count": 25,
   "metadata": {},
   "outputs": [
    {
     "name": "stderr",
     "output_type": "stream",
     "text": [
      "Clipping input data to the valid range for imshow with RGB data ([0..1] for floats or [0..255] for integers).\n"
     ]
    },
    {
     "data": {
      "image/png": "[encoded data removed]",
      "text/plain": [
       "<Figure size 432x288 with 1 Axes>"
      ]
     },
     "metadata": {
      "needs_background": "light"
     },
     "output_type": "display_data"
    }
   ],
   "source": [
    "img_t, _ = transformed_cifar10[99]\n",
    "\n",
    "plt.imshow(img_t.permute(1, 2, 0))\n",
    "plt.show()"
   ]
  },
  {
   "cell_type": "markdown",
   "metadata": {},
   "source": [
    "#### 3) Convolution"
   ]
  },
  {
   "cell_type": "code",
   "execution_count": 26,
   "metadata": {},
   "outputs": [],
   "source": [
    "from torch import nn"
   ]
  },
  {
   "cell_type": "code",
   "execution_count": 27,
   "metadata": {},
   "outputs": [
    {
     "data": {
      "text/plain": [
       "Conv2d(3, 16, kernel_size=(3, 3), stride=(1, 1))"
      ]
     },
     "execution_count": 27,
     "metadata": {},
     "output_type": "execute_result"
    }
   ],
   "source": [
    "conv = nn.Conv2d(3, 16, kernel_size=3)\n",
    "conv"
   ]
  },
  {
   "cell_type": "code",
   "execution_count": 28,
   "metadata": {},
   "outputs": [
    {
     "data": {
      "text/plain": [
       "(torch.Size([16, 3, 3, 3]), torch.Size([16]))"
      ]
     },
     "execution_count": 28,
     "metadata": {},
     "output_type": "execute_result"
    }
   ],
   "source": [
    "conv.weight.shape, conv.bias.shape"
   ]
  },
  {
   "cell_type": "code",
   "execution_count": 29,
   "metadata": {},
   "outputs": [
    {
     "data": {
      "text/plain": [
       "(torch.Size([1, 3, 32, 32]), torch.Size([1, 16, 30, 30]))"
      ]
     },
     "execution_count": 29,
     "metadata": {},
     "output_type": "execute_result"
    }
   ],
   "source": [
    "img, _ = tensor_cifar10[99]\n",
    "output = conv(img.unsqueeze(0))\n",
    "img.unsqueeze(0).shape, output.shape"
   ]
  },
  {
   "cell_type": "code",
   "execution_count": 30,
   "metadata": {},
   "outputs": [
    {
     "data": {
      "image/png": "[encoded data removed]",
      "text/plain": [
       "<Figure size 432x288 with 1 Axes>"
      ]
     },
     "metadata": {
      "needs_background": "light"
     },
     "output_type": "display_data"
    }
   ],
   "source": [
    "plt.imshow(output[0,0].detach(), cmap='gray')\n",
    "plt.show() # We lost a few pixels!"
   ]
  },
  {
   "cell_type": "markdown",
   "metadata": {},
   "source": [
    "#### 4) Padding"
   ]
  },
  {
   "cell_type": "code",
   "execution_count": 31,
   "metadata": {},
   "outputs": [
    {
     "data": {
      "text/plain": [
       "(torch.Size([1, 3, 32, 32]), torch.Size([1, 16, 32, 32]))"
      ]
     },
     "execution_count": 31,
     "metadata": {},
     "output_type": "execute_result"
    }
   ],
   "source": [
    "conv = nn.Conv2d(3, 16, kernel_size=3, padding=1)\n",
    "output = conv(img.unsqueeze(0))\n",
    "img.unsqueeze(0).shape, output.shape"
   ]
  },
  {
   "cell_type": "code",
   "execution_count": 32,
   "metadata": {},
   "outputs": [
    {
     "data": {
      "image/png": "[encoded data removed]",
      "text/plain": [
       "<Figure size 432x288 with 1 Axes>"
      ]
     },
     "metadata": {
      "needs_background": "light"
     },
     "output_type": "display_data"
    }
   ],
   "source": [
    "plt.imshow(output[0,0].detach(), cmap='gray')\n",
    "plt.show()"
   ]
  },
  {
   "cell_type": "code",
   "execution_count": 33,
   "metadata": {},
   "outputs": [],
   "source": [
    "# Edge detection\n",
    "conv = nn.Conv2d(3, 1, kernel_size=3, padding=1)\n",
    "with torch.no_grad():\n",
    "    conv.weight[:] = torch.tensor([\n",
    "        [-1.0, -1.0, -1.0],\n",
    "        [-1.0,  8.0, -1.0],\n",
    "        [-1.0, -1.0, -1.0]\n",
    "    ])\n",
    "    conv.bias.zero_()"
   ]
  },
  {
   "cell_type": "code",
   "execution_count": 34,
   "metadata": {},
   "outputs": [
    {
     "data": {
      "image/png": "[encoded data removed]",
      "text/plain": [
       "<Figure size 432x288 with 1 Axes>"
      ]
     },
     "metadata": {
      "needs_background": "light"
     },
     "output_type": "display_data"
    }
   ],
   "source": [
    "output = conv(img.unsqueeze(0))\n",
    "img.unsqueeze(0).shape, output.shape\n",
    "plt.imshow(output[0,0].detach(), cmap='gray')\n",
    "plt.show()"
   ]
  },
  {
   "cell_type": "code",
   "execution_count": 35,
   "metadata": {},
   "outputs": [
    {
     "data": {
      "image/png": "[encoded data removed]",
      "text/plain": [
       "<Figure size 432x288 with 1 Axes>"
      ]
     },
     "metadata": {
      "needs_background": "light"
     },
     "output_type": "display_data"
    }
   ],
   "source": [
    "# Sharpen\n",
    "conv = nn.Conv2d(3, 1, kernel_size=3, padding=1)\n",
    "with torch.no_grad():\n",
    "    conv.weight[:] = torch.tensor([\n",
    "        [ 0.0, -1.0,  0.0],\n",
    "        [-1.0,  5.0, -1.0],\n",
    "        [ 0.0, -1.0,  0.0]\n",
    "    ])\n",
    "    conv.bias.zero_()\n",
    "output = conv(img.unsqueeze(0))\n",
    "img.unsqueeze(0).shape, output.shape\n",
    "plt.imshow(output[0,0].detach(), cmap='gray')\n",
    "plt.show()"
   ]
  },
  {
   "cell_type": "markdown",
   "metadata": {},
   "source": [
    "#### 5) Pooling"
   ]
  },
  {
   "cell_type": "code",
   "execution_count": 36,
   "metadata": {},
   "outputs": [
    {
     "data": {
      "text/plain": [
       "(torch.Size([1, 3, 32, 32]), torch.Size([1, 3, 16, 16]))"
      ]
     },
     "execution_count": 36,
     "metadata": {},
     "output_type": "execute_result"
    }
   ],
   "source": [
    "pool = nn.MaxPool2d(2)\n",
    "output = pool(img.unsqueeze(0))\n",
    "\n",
    "img.unsqueeze(0).shape, output.shape"
   ]
  },
  {
   "cell_type": "code",
   "execution_count": 37,
   "metadata": {},
   "outputs": [
    {
     "data": {
      "image/png": "[encoded data removed]",
      "text/plain": [
       "<Figure size 432x288 with 1 Axes>"
      ]
     },
     "metadata": {
      "needs_background": "light"
     },
     "output_type": "display_data"
    }
   ],
   "source": [
    "plt.imshow(output[0,0].detach(), cmap='gray')\n",
    "plt.show()"
   ]
  },
  {
   "cell_type": "code",
   "execution_count": 38,
   "metadata": {},
   "outputs": [
    {
     "data": {
      "image/png": "[encoded data removed]",
      "text/plain": [
       "<Figure size 432x288 with 1 Axes>"
      ]
     },
     "metadata": {
      "needs_background": "light"
     },
     "output_type": "display_data"
    }
   ],
   "source": [
    "activate = nn.ReLU()\n",
    "conv = nn.Conv2d(3, 16, kernel_size=3, padding=1)\n",
    "output = conv(img.unsqueeze(0))\n",
    "output = activate(output)\n",
    "output = pool(output)\n",
    "\n",
    "plt.imshow(output[0,0].detach(), cmap='gray')\n",
    "plt.show()"
   ]
  },
  {
   "cell_type": "markdown",
   "metadata": {},
   "source": [
    "## 1.1.6 Create Preprocess Class"
   ]
  },
  {
   "cell_type": "code",
   "execution_count": 39,
   "metadata": {},
   "outputs": [],
   "source": [
    "class BaseTransform():\n",
    "    \"\"\"\n",
    "    Attributes\n",
    "    ----------\n",
    "    resize:   int\n",
    "    mean: (R,G,B)\n",
    "    std:  (R,G,B)\n",
    "    \"\"\"\n",
    "    def __init__(self, resize, mean, std):\n",
    "        self.base_transform = transforms.Compose([\n",
    "            transforms.Resize(resize),\n",
    "            transforms.CenterCrop(resize),\n",
    "            transforms.ToTensor(),\n",
    "            transforms.Normalize(mean, std)\n",
    "        ])\n",
    "    \n",
    "    def __call__(self, img):\n",
    "        return self.base_transform(img)"
   ]
  },
  {
   "cell_type": "code",
   "execution_count": 40,
   "metadata": {},
   "outputs": [
    {
     "data": {
      "image/png": "[encoded data removed]",
      "text/plain": [
       "<Figure size 432x288 with 1 Axes>"
      ]
     },
     "metadata": {
      "needs_background": "light"
     },
     "output_type": "display_data"
    }
   ],
   "source": [
    "image_file_path = \"./data/goldenretriever-3724972_960_720.jpg\"\n",
    "img = Image.open(image_file_path)\n",
    "\n",
    "plt.imshow(img)\n",
    "plt.show()"
   ]
  },
  {
   "cell_type": "code",
   "execution_count": 41,
   "metadata": {},
   "outputs": [
    {
     "data": {
      "text/plain": [
       "torch.Size([3, 224, 224])"
      ]
     },
     "execution_count": 41,
     "metadata": {},
     "output_type": "execute_result"
    }
   ],
   "source": [
    "resize = 224\n",
    "mean = (0.485, 0.456, 0.40)\n",
    "std = (0.229, 0.224, 0.225)\n",
    "transform = BaseTransform(resize, mean, std)\n",
    "img_transformed = transform(img)\n",
    "img_transformed.shape"
   ]
  },
  {
   "cell_type": "code",
   "execution_count": 42,
   "metadata": {},
   "outputs": [],
   "source": [
    "img_permuted = img_transformed.permute(1, 2, 0) # CHW -> HWC\n",
    "img_permuted = np.clip(img_permuted, 0, 1)   # 0-1 제한"
   ]
  },
  {
   "cell_type": "code",
   "execution_count": 43,
   "metadata": {},
   "outputs": [
    {
     "data": {
      "image/png": "[encoded data removed]",
      "text/plain": [
       "<Figure size 432x288 with 1 Axes>"
      ]
     },
     "metadata": {
      "needs_background": "light"
     },
     "output_type": "display_data"
    }
   ],
   "source": [
    "plt.imshow(img_permuted)\n",
    "plt.show()"
   ]
  },
  {
   "cell_type": "markdown",
   "metadata": {},
   "source": [
    "## 1.1.7 Create Post-process class\n",
    "\n",
    "먼저 다음의 과정을 통해 `imagenet1000_clsidx_to_labels.txt`을 다운받자.\n",
    "\n",
    "```sh\n",
    "cd data\n",
    "wget https://gist.github.com/yrevar/942d3a0ac09ec9e5eb3a/raw/238f720ff059c1f82f368259d1ca4ffa5dd8f9f5/imagenet1000_clsidx_to_labels.txt\n",
    "```"
   ]
  },
  {
   "cell_type": "code",
   "execution_count": 44,
   "metadata": {},
   "outputs": [],
   "source": [
    "class ILSVRCPredictor():\n",
    "    def __init__(self, class_index):\n",
    "        self.class_index = class_index\n",
    "    \n",
    "    def predict_max(self, out):\n",
    "        maxid = torch.argmax(out).item()\n",
    "        predicted_label_name = self.class_index[maxid]\n",
    "        return predicted_label_name"
   ]
  },
  {
   "cell_type": "markdown",
   "metadata": {},
   "source": [
    "## 1.1.8 Use pretrained VGG to predict"
   ]
  },
  {
   "cell_type": "code",
   "execution_count": 45,
   "metadata": {},
   "outputs": [
    {
     "data": {
      "text/plain": [
       "{0: 'tench, Tinca tinca',\n",
       " 1: 'goldfish, Carassius auratus',\n",
       " 2: 'great white shark, white shark, man-eater, man-eating shark, Carcharodon carcharias',\n",
       " 3: 'tiger shark, Galeocerdo cuvieri',\n",
       " 4: 'hammerhead, hammerhead shark',\n",
       " 5: 'electric ray, crampfish, numbfish, torpedo',\n",
       " 6: 'stingray',\n",
       " 7: 'cock',\n",
       " 8: 'hen',\n",
       " 9: 'ostrich, Struthio camelus',\n",
       " 10: 'brambling, Fringilla montifringilla',\n",
       " 11: 'goldfinch, Carduelis carduelis',\n",
       " 12: 'house finch, linnet, Carpodacus mexicanus',\n",
       " 13: 'junco, snowbird',\n",
       " 14: 'indigo bunting, indigo finch, indigo bird, Passerina cyanea',\n",
       " 15: 'robin, American robin, Turdus migratorius',\n",
       " 16: 'bulbul',\n",
       " 17: 'jay',\n",
       " 18: 'magpie',\n",
       " 19: 'chickadee',\n",
       " 20: 'water ouzel, dipper',\n",
       " 21: 'kite',\n",
       " 22: 'bald eagle, American eagle, Haliaeetus leucocephalus',\n",
       " 23: 'vulture',\n",
       " 24: 'great grey owl, great gray owl, Strix nebulosa',\n",
       " 25: 'European fire salamander, Salamandra salamandra',\n",
       " 26: 'common newt, Triturus vulgaris',\n",
       " 27: 'eft',\n",
       " 28: 'spotted salamander, Ambystoma maculatum',\n",
       " 29: 'axolotl, mud puppy, Ambystoma mexicanum',\n",
       " 30: 'bullfrog, Rana catesbeiana',\n",
       " 31: 'tree frog, tree-frog',\n",
       " 32: 'tailed frog, bell toad, ribbed toad, tailed toad, Ascaphus trui',\n",
       " 33: 'loggerhead, loggerhead turtle, Caretta caretta',\n",
       " 34: 'leatherback turtle, leatherback, leathery turtle, Dermochelys coriacea',\n",
       " 35: 'mud turtle',\n",
       " 36: 'terrapin',\n",
       " 37: 'box turtle, box tortoise',\n",
       " 38: 'banded gecko',\n",
       " 39: 'common iguana, iguana, Iguana iguana',\n",
       " 40: 'American chameleon, anole, Anolis carolinensis',\n",
       " 41: 'whiptail, whiptail lizard',\n",
       " 42: 'agama',\n",
       " 43: 'frilled lizard, Chlamydosaurus kingi',\n",
       " 44: 'alligator lizard',\n",
       " 45: 'Gila monster, Heloderma suspectum',\n",
       " 46: 'green lizard, Lacerta viridis',\n",
       " 47: 'African chameleon, Chamaeleo chamaeleon',\n",
       " 48: 'Komodo dragon, Komodo lizard, dragon lizard, giant lizard, Varanus komodoensis',\n",
       " 49: 'African crocodile, Nile crocodile, Crocodylus niloticus',\n",
       " 50: 'American alligator, Alligator mississipiensis',\n",
       " 51: 'triceratops',\n",
       " 52: 'thunder snake, worm snake, Carphophis amoenus',\n",
       " 53: 'ringneck snake, ring-necked snake, ring snake',\n",
       " 54: 'hognose snake, puff adder, sand viper',\n",
       " 55: 'green snake, grass snake',\n",
       " 56: 'king snake, kingsnake',\n",
       " 57: 'garter snake, grass snake',\n",
       " 58: 'water snake',\n",
       " 59: 'vine snake',\n",
       " 60: 'night snake, Hypsiglena torquata',\n",
       " 61: 'boa constrictor, Constrictor constrictor',\n",
       " 62: 'rock python, rock snake, Python sebae',\n",
       " 63: 'Indian cobra, Naja naja',\n",
       " 64: 'green mamba',\n",
       " 65: 'sea snake',\n",
       " 66: 'horned viper, cerastes, sand viper, horned asp, Cerastes cornutus',\n",
       " 67: 'diamondback, diamondback rattlesnake, Crotalus adamanteus',\n",
       " 68: 'sidewinder, horned rattlesnake, Crotalus cerastes',\n",
       " 69: 'trilobite',\n",
       " 70: 'harvestman, daddy longlegs, Phalangium opilio',\n",
       " 71: 'scorpion',\n",
       " 72: 'black and gold garden spider, Argiope aurantia',\n",
       " 73: 'barn spider, Araneus cavaticus',\n",
       " 74: 'garden spider, Aranea diademata',\n",
       " 75: 'black widow, Latrodectus mactans',\n",
       " 76: 'tarantula',\n",
       " 77: 'wolf spider, hunting spider',\n",
       " 78: 'tick',\n",
       " 79: 'centipede',\n",
       " 80: 'black grouse',\n",
       " 81: 'ptarmigan',\n",
       " 82: 'ruffed grouse, partridge, Bonasa umbellus',\n",
       " 83: 'prairie chicken, prairie grouse, prairie fowl',\n",
       " 84: 'peacock',\n",
       " 85: 'quail',\n",
       " 86: 'partridge',\n",
       " 87: 'African grey, African gray, Psittacus erithacus',\n",
       " 88: 'macaw',\n",
       " 89: 'sulphur-crested cockatoo, Kakatoe galerita, Cacatua galerita',\n",
       " 90: 'lorikeet',\n",
       " 91: 'coucal',\n",
       " 92: 'bee eater',\n",
       " 93: 'hornbill',\n",
       " 94: 'hummingbird',\n",
       " 95: 'jacamar',\n",
       " 96: 'toucan',\n",
       " 97: 'drake',\n",
       " 98: 'red-breasted merganser, Mergus serrator',\n",
       " 99: 'goose',\n",
       " 100: 'black swan, Cygnus atratus',\n",
       " 101: 'tusker',\n",
       " 102: 'echidna, spiny anteater, anteater',\n",
       " 103: 'platypus, duckbill, duckbilled platypus, duck-billed platypus, Ornithorhynchus anatinus',\n",
       " 104: 'wallaby, brush kangaroo',\n",
       " 105: 'koala, koala bear, kangaroo bear, native bear, Phascolarctos cinereus',\n",
       " 106: 'wombat',\n",
       " 107: 'jellyfish',\n",
       " 108: 'sea anemone, anemone',\n",
       " 109: 'brain coral',\n",
       " 110: 'flatworm, platyhelminth',\n",
       " 111: 'nematode, nematode worm, roundworm',\n",
       " 112: 'conch',\n",
       " 113: 'snail',\n",
       " 114: 'slug',\n",
       " 115: 'sea slug, nudibranch',\n",
       " 116: 'chiton, coat-of-mail shell, sea cradle, polyplacophore',\n",
       " 117: 'chambered nautilus, pearly nautilus, nautilus',\n",
       " 118: 'Dungeness crab, Cancer magister',\n",
       " 119: 'rock crab, Cancer irroratus',\n",
       " 120: 'fiddler crab',\n",
       " 121: 'king crab, Alaska crab, Alaskan king crab, Alaska king crab, Paralithodes camtschatica',\n",
       " 122: 'American lobster, Northern lobster, Maine lobster, Homarus americanus',\n",
       " 123: 'spiny lobster, langouste, rock lobster, crawfish, crayfish, sea crawfish',\n",
       " 124: 'crayfish, crawfish, crawdad, crawdaddy',\n",
       " 125: 'hermit crab',\n",
       " 126: 'isopod',\n",
       " 127: 'white stork, Ciconia ciconia',\n",
       " 128: 'black stork, Ciconia nigra',\n",
       " 129: 'spoonbill',\n",
       " 130: 'flamingo',\n",
       " 131: 'little blue heron, Egretta caerulea',\n",
       " 132: 'American egret, great white heron, Egretta albus',\n",
       " 133: 'bittern',\n",
       " 134: 'crane',\n",
       " 135: 'limpkin, Aramus pictus',\n",
       " 136: 'European gallinule, Porphyrio porphyrio',\n",
       " 137: 'American coot, marsh hen, mud hen, water hen, Fulica americana',\n",
       " 138: 'bustard',\n",
       " 139: 'ruddy turnstone, Arenaria interpres',\n",
       " 140: 'red-backed sandpiper, dunlin, Erolia alpina',\n",
       " 141: 'redshank, Tringa totanus',\n",
       " 142: 'dowitcher',\n",
       " 143: 'oystercatcher, oyster catcher',\n",
       " 144: 'pelican',\n",
       " 145: 'king penguin, Aptenodytes patagonica',\n",
       " 146: 'albatross, mollymawk',\n",
       " 147: 'grey whale, gray whale, devilfish, Eschrichtius gibbosus, Eschrichtius robustus',\n",
       " 148: 'killer whale, killer, orca, grampus, sea wolf, Orcinus orca',\n",
       " 149: 'dugong, Dugong dugon',\n",
       " 150: 'sea lion',\n",
       " 151: 'Chihuahua',\n",
       " 152: 'Japanese spaniel',\n",
       " 153: 'Maltese dog, Maltese terrier, Maltese',\n",
       " 154: 'Pekinese, Pekingese, Peke',\n",
       " 155: 'Shih-Tzu',\n",
       " 156: 'Blenheim spaniel',\n",
       " 157: 'papillon',\n",
       " 158: 'toy terrier',\n",
       " 159: 'Rhodesian ridgeback',\n",
       " 160: 'Afghan hound, Afghan',\n",
       " 161: 'basset, basset hound',\n",
       " 162: 'beagle',\n",
       " 163: 'bloodhound, sleuthhound',\n",
       " 164: 'bluetick',\n",
       " 165: 'black-and-tan coonhound',\n",
       " 166: 'Walker hound, Walker foxhound',\n",
       " 167: 'English foxhound',\n",
       " 168: 'redbone',\n",
       " 169: 'borzoi, Russian wolfhound',\n",
       " 170: 'Irish wolfhound',\n",
       " 171: 'Italian greyhound',\n",
       " 172: 'whippet',\n",
       " 173: 'Ibizan hound, Ibizan Podenco',\n",
       " 174: 'Norwegian elkhound, elkhound',\n",
       " 175: 'otterhound, otter hound',\n",
       " 176: 'Saluki, gazelle hound',\n",
       " 177: 'Scottish deerhound, deerhound',\n",
       " 178: 'Weimaraner',\n",
       " 179: 'Staffordshire bullterrier, Staffordshire bull terrier',\n",
       " 180: 'American Staffordshire terrier, Staffordshire terrier, American pit bull terrier, pit bull terrier',\n",
       " 181: 'Bedlington terrier',\n",
       " 182: 'Border terrier',\n",
       " 183: 'Kerry blue terrier',\n",
       " 184: 'Irish terrier',\n",
       " 185: 'Norfolk terrier',\n",
       " 186: 'Norwich terrier',\n",
       " 187: 'Yorkshire terrier',\n",
       " 188: 'wire-haired fox terrier',\n",
       " 189: 'Lakeland terrier',\n",
       " 190: 'Sealyham terrier, Sealyham',\n",
       " 191: 'Airedale, Airedale terrier',\n",
       " 192: 'cairn, cairn terrier',\n",
       " 193: 'Australian terrier',\n",
       " 194: 'Dandie Dinmont, Dandie Dinmont terrier',\n",
       " 195: 'Boston bull, Boston terrier',\n",
       " 196: 'miniature schnauzer',\n",
       " 197: 'giant schnauzer',\n",
       " 198: 'standard schnauzer',\n",
       " 199: 'Scotch terrier, Scottish terrier, Scottie',\n",
       " 200: 'Tibetan terrier, chrysanthemum dog',\n",
       " 201: 'silky terrier, Sydney silky',\n",
       " 202: 'soft-coated wheaten terrier',\n",
       " 203: 'West Highland white terrier',\n",
       " 204: 'Lhasa, Lhasa apso',\n",
       " 205: 'flat-coated retriever',\n",
       " 206: 'curly-coated retriever',\n",
       " 207: 'golden retriever',\n",
       " 208: 'Labrador retriever',\n",
       " 209: 'Chesapeake Bay retriever',\n",
       " 210: 'German short-haired pointer',\n",
       " 211: 'vizsla, Hungarian pointer',\n",
       " 212: 'English setter',\n",
       " 213: 'Irish setter, red setter',\n",
       " 214: 'Gordon setter',\n",
       " 215: 'Brittany spaniel',\n",
       " 216: 'clumber, clumber spaniel',\n",
       " 217: 'English springer, English springer spaniel',\n",
       " 218: 'Welsh springer spaniel',\n",
       " 219: 'cocker spaniel, English cocker spaniel, cocker',\n",
       " 220: 'Sussex spaniel',\n",
       " 221: 'Irish water spaniel',\n",
       " 222: 'kuvasz',\n",
       " 223: 'schipperke',\n",
       " 224: 'groenendael',\n",
       " 225: 'malinois',\n",
       " 226: 'briard',\n",
       " 227: 'kelpie',\n",
       " 228: 'komondor',\n",
       " 229: 'Old English sheepdog, bobtail',\n",
       " 230: 'Shetland sheepdog, Shetland sheep dog, Shetland',\n",
       " 231: 'collie',\n",
       " 232: 'Border collie',\n",
       " 233: 'Bouvier des Flandres, Bouviers des Flandres',\n",
       " 234: 'Rottweiler',\n",
       " 235: 'German shepherd, German shepherd dog, German police dog, alsatian',\n",
       " 236: 'Doberman, Doberman pinscher',\n",
       " 237: 'miniature pinscher',\n",
       " 238: 'Greater Swiss Mountain dog',\n",
       " 239: 'Bernese mountain dog',\n",
       " 240: 'Appenzeller',\n",
       " 241: 'EntleBucher',\n",
       " 242: 'boxer',\n",
       " 243: 'bull mastiff',\n",
       " 244: 'Tibetan mastiff',\n",
       " 245: 'French bulldog',\n",
       " 246: 'Great Dane',\n",
       " 247: 'Saint Bernard, St Bernard',\n",
       " 248: 'Eskimo dog, husky',\n",
       " 249: 'malamute, malemute, Alaskan malamute',\n",
       " 250: 'Siberian husky',\n",
       " 251: 'dalmatian, coach dog, carriage dog',\n",
       " 252: 'affenpinscher, monkey pinscher, monkey dog',\n",
       " 253: 'basenji',\n",
       " 254: 'pug, pug-dog',\n",
       " 255: 'Leonberg',\n",
       " 256: 'Newfoundland, Newfoundland dog',\n",
       " 257: 'Great Pyrenees',\n",
       " 258: 'Samoyed, Samoyede',\n",
       " 259: 'Pomeranian',\n",
       " 260: 'chow, chow chow',\n",
       " 261: 'keeshond',\n",
       " 262: 'Brabancon griffon',\n",
       " 263: 'Pembroke, Pembroke Welsh corgi',\n",
       " 264: 'Cardigan, Cardigan Welsh corgi',\n",
       " 265: 'toy poodle',\n",
       " 266: 'miniature poodle',\n",
       " 267: 'standard poodle',\n",
       " 268: 'Mexican hairless',\n",
       " 269: 'timber wolf, grey wolf, gray wolf, Canis lupus',\n",
       " 270: 'white wolf, Arctic wolf, Canis lupus tundrarum',\n",
       " 271: 'red wolf, maned wolf, Canis rufus, Canis niger',\n",
       " 272: 'coyote, prairie wolf, brush wolf, Canis latrans',\n",
       " 273: 'dingo, warrigal, warragal, Canis dingo',\n",
       " 274: 'dhole, Cuon alpinus',\n",
       " 275: 'African hunting dog, hyena dog, Cape hunting dog, Lycaon pictus',\n",
       " 276: 'hyena, hyaena',\n",
       " 277: 'red fox, Vulpes vulpes',\n",
       " 278: 'kit fox, Vulpes macrotis',\n",
       " 279: 'Arctic fox, white fox, Alopex lagopus',\n",
       " 280: 'grey fox, gray fox, Urocyon cinereoargenteus',\n",
       " 281: 'tabby, tabby cat',\n",
       " 282: 'tiger cat',\n",
       " 283: 'Persian cat',\n",
       " 284: 'Siamese cat, Siamese',\n",
       " 285: 'Egyptian cat',\n",
       " 286: 'cougar, puma, catamount, mountain lion, painter, panther, Felis concolor',\n",
       " 287: 'lynx, catamount',\n",
       " 288: 'leopard, Panthera pardus',\n",
       " 289: 'snow leopard, ounce, Panthera uncia',\n",
       " 290: 'jaguar, panther, Panthera onca, Felis onca',\n",
       " 291: 'lion, king of beasts, Panthera leo',\n",
       " 292: 'tiger, Panthera tigris',\n",
       " 293: 'cheetah, chetah, Acinonyx jubatus',\n",
       " 294: 'brown bear, bruin, Ursus arctos',\n",
       " 295: 'American black bear, black bear, Ursus americanus, Euarctos americanus',\n",
       " 296: 'ice bear, polar bear, Ursus Maritimus, Thalarctos maritimus',\n",
       " 297: 'sloth bear, Melursus ursinus, Ursus ursinus',\n",
       " 298: 'mongoose',\n",
       " 299: 'meerkat, mierkat',\n",
       " 300: 'tiger beetle',\n",
       " 301: 'ladybug, ladybeetle, lady beetle, ladybird, ladybird beetle',\n",
       " 302: 'ground beetle, carabid beetle',\n",
       " 303: 'long-horned beetle, longicorn, longicorn beetle',\n",
       " 304: 'leaf beetle, chrysomelid',\n",
       " 305: 'dung beetle',\n",
       " 306: 'rhinoceros beetle',\n",
       " 307: 'weevil',\n",
       " 308: 'fly',\n",
       " 309: 'bee',\n",
       " 310: 'ant, emmet, pismire',\n",
       " 311: 'grasshopper, hopper',\n",
       " 312: 'cricket',\n",
       " 313: 'walking stick, walkingstick, stick insect',\n",
       " 314: 'cockroach, roach',\n",
       " 315: 'mantis, mantid',\n",
       " 316: 'cicada, cicala',\n",
       " 317: 'leafhopper',\n",
       " 318: 'lacewing, lacewing fly',\n",
       " 319: \"dragonfly, darning needle, devil's darning needle, sewing needle, snake feeder, snake doctor, mosquito hawk, skeeter hawk\",\n",
       " 320: 'damselfly',\n",
       " 321: 'admiral',\n",
       " 322: 'ringlet, ringlet butterfly',\n",
       " 323: 'monarch, monarch butterfly, milkweed butterfly, Danaus plexippus',\n",
       " 324: 'cabbage butterfly',\n",
       " 325: 'sulphur butterfly, sulfur butterfly',\n",
       " 326: 'lycaenid, lycaenid butterfly',\n",
       " 327: 'starfish, sea star',\n",
       " 328: 'sea urchin',\n",
       " 329: 'sea cucumber, holothurian',\n",
       " 330: 'wood rabbit, cottontail, cottontail rabbit',\n",
       " 331: 'hare',\n",
       " 332: 'Angora, Angora rabbit',\n",
       " 333: 'hamster',\n",
       " 334: 'porcupine, hedgehog',\n",
       " 335: 'fox squirrel, eastern fox squirrel, Sciurus niger',\n",
       " 336: 'marmot',\n",
       " 337: 'beaver',\n",
       " 338: 'guinea pig, Cavia cobaya',\n",
       " 339: 'sorrel',\n",
       " 340: 'zebra',\n",
       " 341: 'hog, pig, grunter, squealer, Sus scrofa',\n",
       " 342: 'wild boar, boar, Sus scrofa',\n",
       " 343: 'warthog',\n",
       " 344: 'hippopotamus, hippo, river horse, Hippopotamus amphibius',\n",
       " 345: 'ox',\n",
       " 346: 'water buffalo, water ox, Asiatic buffalo, Bubalus bubalis',\n",
       " 347: 'bison',\n",
       " 348: 'ram, tup',\n",
       " 349: 'bighorn, bighorn sheep, cimarron, Rocky Mountain bighorn, Rocky Mountain sheep, Ovis canadensis',\n",
       " 350: 'ibex, Capra ibex',\n",
       " 351: 'hartebeest',\n",
       " 352: 'impala, Aepyceros melampus',\n",
       " 353: 'gazelle',\n",
       " 354: 'Arabian camel, dromedary, Camelus dromedarius',\n",
       " 355: 'llama',\n",
       " 356: 'weasel',\n",
       " 357: 'mink',\n",
       " 358: 'polecat, fitch, foulmart, foumart, Mustela putorius',\n",
       " 359: 'black-footed ferret, ferret, Mustela nigripes',\n",
       " 360: 'otter',\n",
       " 361: 'skunk, polecat, wood pussy',\n",
       " 362: 'badger',\n",
       " 363: 'armadillo',\n",
       " 364: 'three-toed sloth, ai, Bradypus tridactylus',\n",
       " 365: 'orangutan, orang, orangutang, Pongo pygmaeus',\n",
       " 366: 'gorilla, Gorilla gorilla',\n",
       " 367: 'chimpanzee, chimp, Pan troglodytes',\n",
       " 368: 'gibbon, Hylobates lar',\n",
       " 369: 'siamang, Hylobates syndactylus, Symphalangus syndactylus',\n",
       " 370: 'guenon, guenon monkey',\n",
       " 371: 'patas, hussar monkey, Erythrocebus patas',\n",
       " 372: 'baboon',\n",
       " 373: 'macaque',\n",
       " 374: 'langur',\n",
       " 375: 'colobus, colobus monkey',\n",
       " 376: 'proboscis monkey, Nasalis larvatus',\n",
       " 377: 'marmoset',\n",
       " 378: 'capuchin, ringtail, Cebus capucinus',\n",
       " 379: 'howler monkey, howler',\n",
       " 380: 'titi, titi monkey',\n",
       " 381: 'spider monkey, Ateles geoffroyi',\n",
       " 382: 'squirrel monkey, Saimiri sciureus',\n",
       " 383: 'Madagascar cat, ring-tailed lemur, Lemur catta',\n",
       " 384: 'indri, indris, Indri indri, Indri brevicaudatus',\n",
       " 385: 'Indian elephant, Elephas maximus',\n",
       " 386: 'African elephant, Loxodonta africana',\n",
       " 387: 'lesser panda, red panda, panda, bear cat, cat bear, Ailurus fulgens',\n",
       " 388: 'giant panda, panda, panda bear, coon bear, Ailuropoda melanoleuca',\n",
       " 389: 'barracouta, snoek',\n",
       " 390: 'eel',\n",
       " 391: 'coho, cohoe, coho salmon, blue jack, silver salmon, Oncorhynchus kisutch',\n",
       " 392: 'rock beauty, Holocanthus tricolor',\n",
       " 393: 'anemone fish',\n",
       " 394: 'sturgeon',\n",
       " 395: 'gar, garfish, garpike, billfish, Lepisosteus osseus',\n",
       " 396: 'lionfish',\n",
       " 397: 'puffer, pufferfish, blowfish, globefish',\n",
       " 398: 'abacus',\n",
       " 399: 'abaya',\n",
       " 400: \"academic gown, academic robe, judge's robe\",\n",
       " 401: 'accordion, piano accordion, squeeze box',\n",
       " 402: 'acoustic guitar',\n",
       " 403: 'aircraft carrier, carrier, flattop, attack aircraft carrier',\n",
       " 404: 'airliner',\n",
       " 405: 'airship, dirigible',\n",
       " 406: 'altar',\n",
       " 407: 'ambulance',\n",
       " 408: 'amphibian, amphibious vehicle',\n",
       " 409: 'analog clock',\n",
       " 410: 'apiary, bee house',\n",
       " 411: 'apron',\n",
       " 412: 'ashcan, trash can, garbage can, wastebin, ash bin, ash-bin, ashbin, dustbin, trash barrel, trash bin',\n",
       " 413: 'assault rifle, assault gun',\n",
       " 414: 'backpack, back pack, knapsack, packsack, rucksack, haversack',\n",
       " 415: 'bakery, bakeshop, bakehouse',\n",
       " 416: 'balance beam, beam',\n",
       " 417: 'balloon',\n",
       " 418: 'ballpoint, ballpoint pen, ballpen, Biro',\n",
       " 419: 'Band Aid',\n",
       " 420: 'banjo',\n",
       " 421: 'bannister, banister, balustrade, balusters, handrail',\n",
       " 422: 'barbell',\n",
       " 423: 'barber chair',\n",
       " 424: 'barbershop',\n",
       " 425: 'barn',\n",
       " 426: 'barometer',\n",
       " 427: 'barrel, cask',\n",
       " 428: 'barrow, garden cart, lawn cart, wheelbarrow',\n",
       " 429: 'baseball',\n",
       " 430: 'basketball',\n",
       " 431: 'bassinet',\n",
       " 432: 'bassoon',\n",
       " 433: 'bathing cap, swimming cap',\n",
       " 434: 'bath towel',\n",
       " 435: 'bathtub, bathing tub, bath, tub',\n",
       " 436: 'beach wagon, station wagon, wagon, estate car, beach waggon, station waggon, waggon',\n",
       " 437: 'beacon, lighthouse, beacon light, pharos',\n",
       " 438: 'beaker',\n",
       " 439: 'bearskin, busby, shako',\n",
       " 440: 'beer bottle',\n",
       " 441: 'beer glass',\n",
       " 442: 'bell cote, bell cot',\n",
       " 443: 'bib',\n",
       " 444: 'bicycle-built-for-two, tandem bicycle, tandem',\n",
       " 445: 'bikini, two-piece',\n",
       " 446: 'binder, ring-binder',\n",
       " 447: 'binoculars, field glasses, opera glasses',\n",
       " 448: 'birdhouse',\n",
       " 449: 'boathouse',\n",
       " 450: 'bobsled, bobsleigh, bob',\n",
       " 451: 'bolo tie, bolo, bola tie, bola',\n",
       " 452: 'bonnet, poke bonnet',\n",
       " 453: 'bookcase',\n",
       " 454: 'bookshop, bookstore, bookstall',\n",
       " 455: 'bottlecap',\n",
       " 456: 'bow',\n",
       " 457: 'bow tie, bow-tie, bowtie',\n",
       " 458: 'brass, memorial tablet, plaque',\n",
       " 459: 'brassiere, bra, bandeau',\n",
       " 460: 'breakwater, groin, groyne, mole, bulwark, seawall, jetty',\n",
       " 461: 'breastplate, aegis, egis',\n",
       " 462: 'broom',\n",
       " 463: 'bucket, pail',\n",
       " 464: 'buckle',\n",
       " 465: 'bulletproof vest',\n",
       " 466: 'bullet train, bullet',\n",
       " 467: 'butcher shop, meat market',\n",
       " 468: 'cab, hack, taxi, taxicab',\n",
       " 469: 'caldron, cauldron',\n",
       " 470: 'candle, taper, wax light',\n",
       " 471: 'cannon',\n",
       " 472: 'canoe',\n",
       " 473: 'can opener, tin opener',\n",
       " 474: 'cardigan',\n",
       " 475: 'car mirror',\n",
       " 476: 'carousel, carrousel, merry-go-round, roundabout, whirligig',\n",
       " 477: \"carpenter's kit, tool kit\",\n",
       " 478: 'carton',\n",
       " 479: 'car wheel',\n",
       " 480: 'cash machine, cash dispenser, automated teller machine, automatic teller machine, automated teller, automatic teller, ATM',\n",
       " 481: 'cassette',\n",
       " 482: 'cassette player',\n",
       " 483: 'castle',\n",
       " 484: 'catamaran',\n",
       " 485: 'CD player',\n",
       " 486: 'cello, violoncello',\n",
       " 487: 'cellular telephone, cellular phone, cellphone, cell, mobile phone',\n",
       " 488: 'chain',\n",
       " 489: 'chainlink fence',\n",
       " 490: 'chain mail, ring mail, mail, chain armor, chain armour, ring armor, ring armour',\n",
       " 491: 'chain saw, chainsaw',\n",
       " 492: 'chest',\n",
       " 493: 'chiffonier, commode',\n",
       " 494: 'chime, bell, gong',\n",
       " 495: 'china cabinet, china closet',\n",
       " 496: 'Christmas stocking',\n",
       " 497: 'church, church building',\n",
       " 498: 'cinema, movie theater, movie theatre, movie house, picture palace',\n",
       " 499: 'cleaver, meat cleaver, chopper',\n",
       " 500: 'cliff dwelling',\n",
       " 501: 'cloak',\n",
       " 502: 'clog, geta, patten, sabot',\n",
       " 503: 'cocktail shaker',\n",
       " 504: 'coffee mug',\n",
       " 505: 'coffeepot',\n",
       " 506: 'coil, spiral, volute, whorl, helix',\n",
       " 507: 'combination lock',\n",
       " 508: 'computer keyboard, keypad',\n",
       " 509: 'confectionery, confectionary, candy store',\n",
       " 510: 'container ship, containership, container vessel',\n",
       " 511: 'convertible',\n",
       " 512: 'corkscrew, bottle screw',\n",
       " 513: 'cornet, horn, trumpet, trump',\n",
       " 514: 'cowboy boot',\n",
       " 515: 'cowboy hat, ten-gallon hat',\n",
       " 516: 'cradle',\n",
       " 517: 'crane',\n",
       " 518: 'crash helmet',\n",
       " 519: 'crate',\n",
       " 520: 'crib, cot',\n",
       " 521: 'Crock Pot',\n",
       " 522: 'croquet ball',\n",
       " 523: 'crutch',\n",
       " 524: 'cuirass',\n",
       " 525: 'dam, dike, dyke',\n",
       " 526: 'desk',\n",
       " 527: 'desktop computer',\n",
       " 528: 'dial telephone, dial phone',\n",
       " 529: 'diaper, nappy, napkin',\n",
       " 530: 'digital clock',\n",
       " 531: 'digital watch',\n",
       " 532: 'dining table, board',\n",
       " 533: 'dishrag, dishcloth',\n",
       " 534: 'dishwasher, dish washer, dishwashing machine',\n",
       " 535: 'disk brake, disc brake',\n",
       " 536: 'dock, dockage, docking facility',\n",
       " 537: 'dogsled, dog sled, dog sleigh',\n",
       " 538: 'dome',\n",
       " 539: 'doormat, welcome mat',\n",
       " 540: 'drilling platform, offshore rig',\n",
       " 541: 'drum, membranophone, tympan',\n",
       " 542: 'drumstick',\n",
       " 543: 'dumbbell',\n",
       " 544: 'Dutch oven',\n",
       " 545: 'electric fan, blower',\n",
       " 546: 'electric guitar',\n",
       " 547: 'electric locomotive',\n",
       " 548: 'entertainment center',\n",
       " 549: 'envelope',\n",
       " 550: 'espresso maker',\n",
       " 551: 'face powder',\n",
       " 552: 'feather boa, boa',\n",
       " 553: 'file, file cabinet, filing cabinet',\n",
       " 554: 'fireboat',\n",
       " 555: 'fire engine, fire truck',\n",
       " 556: 'fire screen, fireguard',\n",
       " 557: 'flagpole, flagstaff',\n",
       " 558: 'flute, transverse flute',\n",
       " 559: 'folding chair',\n",
       " 560: 'football helmet',\n",
       " 561: 'forklift',\n",
       " 562: 'fountain',\n",
       " 563: 'fountain pen',\n",
       " 564: 'four-poster',\n",
       " 565: 'freight car',\n",
       " 566: 'French horn, horn',\n",
       " 567: 'frying pan, frypan, skillet',\n",
       " 568: 'fur coat',\n",
       " 569: 'garbage truck, dustcart',\n",
       " 570: 'gasmask, respirator, gas helmet',\n",
       " 571: 'gas pump, gasoline pump, petrol pump, island dispenser',\n",
       " 572: 'goblet',\n",
       " 573: 'go-kart',\n",
       " 574: 'golf ball',\n",
       " 575: 'golfcart, golf cart',\n",
       " 576: 'gondola',\n",
       " 577: 'gong, tam-tam',\n",
       " 578: 'gown',\n",
       " 579: 'grand piano, grand',\n",
       " 580: 'greenhouse, nursery, glasshouse',\n",
       " 581: 'grille, radiator grille',\n",
       " 582: 'grocery store, grocery, food market, market',\n",
       " 583: 'guillotine',\n",
       " 584: 'hair slide',\n",
       " 585: 'hair spray',\n",
       " 586: 'half track',\n",
       " 587: 'hammer',\n",
       " 588: 'hamper',\n",
       " 589: 'hand blower, blow dryer, blow drier, hair dryer, hair drier',\n",
       " 590: 'hand-held computer, hand-held microcomputer',\n",
       " 591: 'handkerchief, hankie, hanky, hankey',\n",
       " 592: 'hard disc, hard disk, fixed disk',\n",
       " 593: 'harmonica, mouth organ, harp, mouth harp',\n",
       " 594: 'harp',\n",
       " 595: 'harvester, reaper',\n",
       " 596: 'hatchet',\n",
       " 597: 'holster',\n",
       " 598: 'home theater, home theatre',\n",
       " 599: 'honeycomb',\n",
       " 600: 'hook, claw',\n",
       " 601: 'hoopskirt, crinoline',\n",
       " 602: 'horizontal bar, high bar',\n",
       " 603: 'horse cart, horse-cart',\n",
       " 604: 'hourglass',\n",
       " 605: 'iPod',\n",
       " 606: 'iron, smoothing iron',\n",
       " 607: \"jack-o'-lantern\",\n",
       " 608: 'jean, blue jean, denim',\n",
       " 609: 'jeep, landrover',\n",
       " 610: 'jersey, T-shirt, tee shirt',\n",
       " 611: 'jigsaw puzzle',\n",
       " 612: 'jinrikisha, ricksha, rickshaw',\n",
       " 613: 'joystick',\n",
       " 614: 'kimono',\n",
       " 615: 'knee pad',\n",
       " 616: 'knot',\n",
       " 617: 'lab coat, laboratory coat',\n",
       " 618: 'ladle',\n",
       " 619: 'lampshade, lamp shade',\n",
       " 620: 'laptop, laptop computer',\n",
       " 621: 'lawn mower, mower',\n",
       " 622: 'lens cap, lens cover',\n",
       " 623: 'letter opener, paper knife, paperknife',\n",
       " 624: 'library',\n",
       " 625: 'lifeboat',\n",
       " 626: 'lighter, light, igniter, ignitor',\n",
       " 627: 'limousine, limo',\n",
       " 628: 'liner, ocean liner',\n",
       " 629: 'lipstick, lip rouge',\n",
       " 630: 'Loafer',\n",
       " 631: 'lotion',\n",
       " 632: 'loudspeaker, speaker, speaker unit, loudspeaker system, speaker system',\n",
       " 633: \"loupe, jeweler's loupe\",\n",
       " 634: 'lumbermill, sawmill',\n",
       " 635: 'magnetic compass',\n",
       " 636: 'mailbag, postbag',\n",
       " 637: 'mailbox, letter box',\n",
       " 638: 'maillot',\n",
       " 639: 'maillot, tank suit',\n",
       " 640: 'manhole cover',\n",
       " 641: 'maraca',\n",
       " 642: 'marimba, xylophone',\n",
       " 643: 'mask',\n",
       " 644: 'matchstick',\n",
       " 645: 'maypole',\n",
       " 646: 'maze, labyrinth',\n",
       " 647: 'measuring cup',\n",
       " 648: 'medicine chest, medicine cabinet',\n",
       " 649: 'megalith, megalithic structure',\n",
       " 650: 'microphone, mike',\n",
       " 651: 'microwave, microwave oven',\n",
       " 652: 'military uniform',\n",
       " 653: 'milk can',\n",
       " 654: 'minibus',\n",
       " 655: 'miniskirt, mini',\n",
       " 656: 'minivan',\n",
       " 657: 'missile',\n",
       " 658: 'mitten',\n",
       " 659: 'mixing bowl',\n",
       " 660: 'mobile home, manufactured home',\n",
       " 661: 'Model T',\n",
       " 662: 'modem',\n",
       " 663: 'monastery',\n",
       " 664: 'monitor',\n",
       " 665: 'moped',\n",
       " 666: 'mortar',\n",
       " 667: 'mortarboard',\n",
       " 668: 'mosque',\n",
       " 669: 'mosquito net',\n",
       " 670: 'motor scooter, scooter',\n",
       " 671: 'mountain bike, all-terrain bike, off-roader',\n",
       " 672: 'mountain tent',\n",
       " 673: 'mouse, computer mouse',\n",
       " 674: 'mousetrap',\n",
       " 675: 'moving van',\n",
       " 676: 'muzzle',\n",
       " 677: 'nail',\n",
       " 678: 'neck brace',\n",
       " 679: 'necklace',\n",
       " 680: 'nipple',\n",
       " 681: 'notebook, notebook computer',\n",
       " 682: 'obelisk',\n",
       " 683: 'oboe, hautboy, hautbois',\n",
       " 684: 'ocarina, sweet potato',\n",
       " 685: 'odometer, hodometer, mileometer, milometer',\n",
       " 686: 'oil filter',\n",
       " 687: 'organ, pipe organ',\n",
       " 688: 'oscilloscope, scope, cathode-ray oscilloscope, CRO',\n",
       " 689: 'overskirt',\n",
       " 690: 'oxcart',\n",
       " 691: 'oxygen mask',\n",
       " 692: 'packet',\n",
       " 693: 'paddle, boat paddle',\n",
       " 694: 'paddlewheel, paddle wheel',\n",
       " 695: 'padlock',\n",
       " 696: 'paintbrush',\n",
       " 697: \"pajama, pyjama, pj's, jammies\",\n",
       " 698: 'palace',\n",
       " 699: 'panpipe, pandean pipe, syrinx',\n",
       " 700: 'paper towel',\n",
       " 701: 'parachute, chute',\n",
       " 702: 'parallel bars, bars',\n",
       " 703: 'park bench',\n",
       " 704: 'parking meter',\n",
       " 705: 'passenger car, coach, carriage',\n",
       " 706: 'patio, terrace',\n",
       " 707: 'pay-phone, pay-station',\n",
       " 708: 'pedestal, plinth, footstall',\n",
       " 709: 'pencil box, pencil case',\n",
       " 710: 'pencil sharpener',\n",
       " 711: 'perfume, essence',\n",
       " 712: 'Petri dish',\n",
       " 713: 'photocopier',\n",
       " 714: 'pick, plectrum, plectron',\n",
       " 715: 'pickelhaube',\n",
       " 716: 'picket fence, paling',\n",
       " 717: 'pickup, pickup truck',\n",
       " 718: 'pier',\n",
       " 719: 'piggy bank, penny bank',\n",
       " 720: 'pill bottle',\n",
       " 721: 'pillow',\n",
       " 722: 'ping-pong ball',\n",
       " 723: 'pinwheel',\n",
       " 724: 'pirate, pirate ship',\n",
       " 725: 'pitcher, ewer',\n",
       " 726: \"plane, carpenter's plane, woodworking plane\",\n",
       " 727: 'planetarium',\n",
       " 728: 'plastic bag',\n",
       " 729: 'plate rack',\n",
       " 730: 'plow, plough',\n",
       " 731: \"plunger, plumber's helper\",\n",
       " 732: 'Polaroid camera, Polaroid Land camera',\n",
       " 733: 'pole',\n",
       " 734: 'police van, police wagon, paddy wagon, patrol wagon, wagon, black Maria',\n",
       " 735: 'poncho',\n",
       " 736: 'pool table, billiard table, snooker table',\n",
       " 737: 'pop bottle, soda bottle',\n",
       " 738: 'pot, flowerpot',\n",
       " 739: \"potter's wheel\",\n",
       " 740: 'power drill',\n",
       " 741: 'prayer rug, prayer mat',\n",
       " 742: 'printer',\n",
       " 743: 'prison, prison house',\n",
       " 744: 'projectile, missile',\n",
       " 745: 'projector',\n",
       " 746: 'puck, hockey puck',\n",
       " 747: 'punching bag, punch bag, punching ball, punchball',\n",
       " 748: 'purse',\n",
       " 749: 'quill, quill pen',\n",
       " 750: 'quilt, comforter, comfort, puff',\n",
       " 751: 'racer, race car, racing car',\n",
       " 752: 'racket, racquet',\n",
       " 753: 'radiator',\n",
       " 754: 'radio, wireless',\n",
       " 755: 'radio telescope, radio reflector',\n",
       " 756: 'rain barrel',\n",
       " 757: 'recreational vehicle, RV, R.V.',\n",
       " 758: 'reel',\n",
       " 759: 'reflex camera',\n",
       " 760: 'refrigerator, icebox',\n",
       " 761: 'remote control, remote',\n",
       " 762: 'restaurant, eating house, eating place, eatery',\n",
       " 763: 'revolver, six-gun, six-shooter',\n",
       " 764: 'rifle',\n",
       " 765: 'rocking chair, rocker',\n",
       " 766: 'rotisserie',\n",
       " 767: 'rubber eraser, rubber, pencil eraser',\n",
       " 768: 'rugby ball',\n",
       " 769: 'rule, ruler',\n",
       " 770: 'running shoe',\n",
       " 771: 'safe',\n",
       " 772: 'safety pin',\n",
       " 773: 'saltshaker, salt shaker',\n",
       " 774: 'sandal',\n",
       " 775: 'sarong',\n",
       " 776: 'sax, saxophone',\n",
       " 777: 'scabbard',\n",
       " 778: 'scale, weighing machine',\n",
       " 779: 'school bus',\n",
       " 780: 'schooner',\n",
       " 781: 'scoreboard',\n",
       " 782: 'screen, CRT screen',\n",
       " 783: 'screw',\n",
       " 784: 'screwdriver',\n",
       " 785: 'seat belt, seatbelt',\n",
       " 786: 'sewing machine',\n",
       " 787: 'shield, buckler',\n",
       " 788: 'shoe shop, shoe-shop, shoe store',\n",
       " 789: 'shoji',\n",
       " 790: 'shopping basket',\n",
       " 791: 'shopping cart',\n",
       " 792: 'shovel',\n",
       " 793: 'shower cap',\n",
       " 794: 'shower curtain',\n",
       " 795: 'ski',\n",
       " 796: 'ski mask',\n",
       " 797: 'sleeping bag',\n",
       " 798: 'slide rule, slipstick',\n",
       " 799: 'sliding door',\n",
       " 800: 'slot, one-armed bandit',\n",
       " 801: 'snorkel',\n",
       " 802: 'snowmobile',\n",
       " 803: 'snowplow, snowplough',\n",
       " 804: 'soap dispenser',\n",
       " 805: 'soccer ball',\n",
       " 806: 'sock',\n",
       " 807: 'solar dish, solar collector, solar furnace',\n",
       " 808: 'sombrero',\n",
       " 809: 'soup bowl',\n",
       " 810: 'space bar',\n",
       " 811: 'space heater',\n",
       " 812: 'space shuttle',\n",
       " 813: 'spatula',\n",
       " 814: 'speedboat',\n",
       " 815: \"spider web, spider's web\",\n",
       " 816: 'spindle',\n",
       " 817: 'sports car, sport car',\n",
       " 818: 'spotlight, spot',\n",
       " 819: 'stage',\n",
       " 820: 'steam locomotive',\n",
       " 821: 'steel arch bridge',\n",
       " 822: 'steel drum',\n",
       " 823: 'stethoscope',\n",
       " 824: 'stole',\n",
       " 825: 'stone wall',\n",
       " 826: 'stopwatch, stop watch',\n",
       " 827: 'stove',\n",
       " 828: 'strainer',\n",
       " 829: 'streetcar, tram, tramcar, trolley, trolley car',\n",
       " 830: 'stretcher',\n",
       " 831: 'studio couch, day bed',\n",
       " 832: 'stupa, tope',\n",
       " 833: 'submarine, pigboat, sub, U-boat',\n",
       " 834: 'suit, suit of clothes',\n",
       " 835: 'sundial',\n",
       " 836: 'sunglass',\n",
       " 837: 'sunglasses, dark glasses, shades',\n",
       " 838: 'sunscreen, sunblock, sun blocker',\n",
       " 839: 'suspension bridge',\n",
       " 840: 'swab, swob, mop',\n",
       " 841: 'sweatshirt',\n",
       " 842: 'swimming trunks, bathing trunks',\n",
       " 843: 'swing',\n",
       " 844: 'switch, electric switch, electrical switch',\n",
       " 845: 'syringe',\n",
       " 846: 'table lamp',\n",
       " 847: 'tank, army tank, armored combat vehicle, armoured combat vehicle',\n",
       " 848: 'tape player',\n",
       " 849: 'teapot',\n",
       " 850: 'teddy, teddy bear',\n",
       " 851: 'television, television system',\n",
       " 852: 'tennis ball',\n",
       " 853: 'thatch, thatched roof',\n",
       " 854: 'theater curtain, theatre curtain',\n",
       " 855: 'thimble',\n",
       " 856: 'thresher, thrasher, threshing machine',\n",
       " 857: 'throne',\n",
       " 858: 'tile roof',\n",
       " 859: 'toaster',\n",
       " 860: 'tobacco shop, tobacconist shop, tobacconist',\n",
       " 861: 'toilet seat',\n",
       " 862: 'torch',\n",
       " 863: 'totem pole',\n",
       " 864: 'tow truck, tow car, wrecker',\n",
       " 865: 'toyshop',\n",
       " 866: 'tractor',\n",
       " 867: 'trailer truck, tractor trailer, trucking rig, rig, articulated lorry, semi',\n",
       " 868: 'tray',\n",
       " 869: 'trench coat',\n",
       " 870: 'tricycle, trike, velocipede',\n",
       " 871: 'trimaran',\n",
       " 872: 'tripod',\n",
       " 873: 'triumphal arch',\n",
       " 874: 'trolleybus, trolley coach, trackless trolley',\n",
       " 875: 'trombone',\n",
       " 876: 'tub, vat',\n",
       " 877: 'turnstile',\n",
       " 878: 'typewriter keyboard',\n",
       " 879: 'umbrella',\n",
       " 880: 'unicycle, monocycle',\n",
       " 881: 'upright, upright piano',\n",
       " 882: 'vacuum, vacuum cleaner',\n",
       " 883: 'vase',\n",
       " 884: 'vault',\n",
       " 885: 'velvet',\n",
       " 886: 'vending machine',\n",
       " 887: 'vestment',\n",
       " 888: 'viaduct',\n",
       " 889: 'violin, fiddle',\n",
       " 890: 'volleyball',\n",
       " 891: 'waffle iron',\n",
       " 892: 'wall clock',\n",
       " 893: 'wallet, billfold, notecase, pocketbook',\n",
       " 894: 'wardrobe, closet, press',\n",
       " 895: 'warplane, military plane',\n",
       " 896: 'washbasin, handbasin, washbowl, lavabo, wash-hand basin',\n",
       " 897: 'washer, automatic washer, washing machine',\n",
       " 898: 'water bottle',\n",
       " 899: 'water jug',\n",
       " 900: 'water tower',\n",
       " 901: 'whiskey jug',\n",
       " 902: 'whistle',\n",
       " 903: 'wig',\n",
       " 904: 'window screen',\n",
       " 905: 'window shade',\n",
       " 906: 'Windsor tie',\n",
       " 907: 'wine bottle',\n",
       " 908: 'wing',\n",
       " 909: 'wok',\n",
       " 910: 'wooden spoon',\n",
       " 911: 'wool, woolen, woollen',\n",
       " 912: 'worm fence, snake fence, snake-rail fence, Virginia fence',\n",
       " 913: 'wreck',\n",
       " 914: 'yawl',\n",
       " 915: 'yurt',\n",
       " 916: 'web site, website, internet site, site',\n",
       " 917: 'comic book',\n",
       " 918: 'crossword puzzle, crossword',\n",
       " 919: 'street sign',\n",
       " 920: 'traffic light, traffic signal, stoplight',\n",
       " 921: 'book jacket, dust cover, dust jacket, dust wrapper',\n",
       " 922: 'menu',\n",
       " 923: 'plate',\n",
       " 924: 'guacamole',\n",
       " 925: 'consomme',\n",
       " 926: 'hot pot, hotpot',\n",
       " 927: 'trifle',\n",
       " 928: 'ice cream, icecream',\n",
       " 929: 'ice lolly, lolly, lollipop, popsicle',\n",
       " 930: 'French loaf',\n",
       " 931: 'bagel, beigel',\n",
       " 932: 'pretzel',\n",
       " 933: 'cheeseburger',\n",
       " 934: 'hotdog, hot dog, red hot',\n",
       " 935: 'mashed potato',\n",
       " 936: 'head cabbage',\n",
       " 937: 'broccoli',\n",
       " 938: 'cauliflower',\n",
       " 939: 'zucchini, courgette',\n",
       " 940: 'spaghetti squash',\n",
       " 941: 'acorn squash',\n",
       " 942: 'butternut squash',\n",
       " 943: 'cucumber, cuke',\n",
       " 944: 'artichoke, globe artichoke',\n",
       " 945: 'bell pepper',\n",
       " 946: 'cardoon',\n",
       " 947: 'mushroom',\n",
       " 948: 'Granny Smith',\n",
       " 949: 'strawberry',\n",
       " 950: 'orange',\n",
       " 951: 'lemon',\n",
       " 952: 'fig',\n",
       " 953: 'pineapple, ananas',\n",
       " 954: 'banana',\n",
       " 955: 'jackfruit, jak, jack',\n",
       " 956: 'custard apple',\n",
       " 957: 'pomegranate',\n",
       " 958: 'hay',\n",
       " 959: 'carbonara',\n",
       " 960: 'chocolate sauce, chocolate syrup',\n",
       " 961: 'dough',\n",
       " 962: 'meat loaf, meatloaf',\n",
       " 963: 'pizza, pizza pie',\n",
       " 964: 'potpie',\n",
       " 965: 'burrito',\n",
       " 966: 'red wine',\n",
       " 967: 'espresso',\n",
       " 968: 'cup',\n",
       " 969: 'eggnog',\n",
       " 970: 'alp',\n",
       " 971: 'bubble',\n",
       " 972: 'cliff, drop, drop-off',\n",
       " 973: 'coral reef',\n",
       " 974: 'geyser',\n",
       " 975: 'lakeside, lakeshore',\n",
       " 976: 'promontory, headland, head, foreland',\n",
       " 977: 'sandbar, sand bar',\n",
       " 978: 'seashore, coast, seacoast, sea-coast',\n",
       " 979: 'valley, vale',\n",
       " 980: 'volcano',\n",
       " 981: 'ballplayer, baseball player',\n",
       " 982: 'groom, bridegroom',\n",
       " 983: 'scuba diver',\n",
       " 984: 'rapeseed',\n",
       " 985: 'daisy',\n",
       " 986: \"yellow lady's slipper, yellow lady-slipper, Cypripedium calceolus, Cypripedium parviflorum\",\n",
       " 987: 'corn',\n",
       " 988: 'acorn',\n",
       " 989: 'hip, rose hip, rosehip',\n",
       " 990: 'buckeye, horse chestnut, conker',\n",
       " 991: 'coral fungus',\n",
       " 992: 'agaric',\n",
       " 993: 'gyromitra',\n",
       " 994: 'stinkhorn, carrion fungus',\n",
       " 995: 'earthstar',\n",
       " 996: 'hen-of-the-woods, hen of the woods, Polyporus frondosus, Grifola frondosa',\n",
       " 997: 'bolete',\n",
       " 998: 'ear, spike, capitulum',\n",
       " 999: 'toilet tissue, toilet paper, bathroom tissue'}"
      ]
     },
     "execution_count": 45,
     "metadata": {},
     "output_type": "execute_result"
    }
   ],
   "source": [
    "with open('./data/imagenet1000_clsidx_to_labels.txt', 'r') as f:\n",
    "    idx2label = eval(f.read())\n",
    "    \n",
    "idx2label"
   ]
  },
  {
   "cell_type": "code",
   "execution_count": 46,
   "metadata": {},
   "outputs": [],
   "source": [
    "predictor = ILSVRCPredictor(idx2label)"
   ]
  },
  {
   "cell_type": "code",
   "execution_count": 47,
   "metadata": {},
   "outputs": [],
   "source": [
    "inputs = img_transformed.unsqueeze(0)\n",
    "out = net(inputs)\n",
    "result = predictor.predict_max(out)"
   ]
  },
  {
   "cell_type": "code",
   "execution_count": 48,
   "metadata": {},
   "outputs": [
    {
     "name": "stdout",
     "output_type": "stream",
     "text": [
      "입력 화상의 예측 결과:  golden retriever\n"
     ]
    }
   ],
   "source": [
    "print(\"입력 화상의 예측 결과: \", result)"
   ]
  },
  {
   "cell_type": "markdown",
   "metadata": {},
   "source": [
    "## 1.2.1 Deeplearning Flow for PyTorch\n",
    "\n",
    "1. 전처리, 후처리, 네트워크 모델의 입출력 확인\n",
    "\n",
    "2. 데이터셋 작성\n",
    "\n",
    "3. 데이터 로더 작성\n",
    "\n",
    "4. 네트워크 모델 작성\n",
    "\n",
    "5. 순전파 정의\n",
    "\n",
    "6. 손실함수 정의\n",
    "\n",
    "7. 최적화 기법 설정\n",
    "\n",
    "8. 학습/검증 실시\n",
    "\n",
    "9. 테스트 데이터로 추론"
   ]
  },
  {
   "cell_type": "markdown",
   "metadata": {},
   "source": [
    "## 1.3.1 Transfer Learning"
   ]
  },
  {
   "cell_type": "markdown",
   "metadata": {},
   "source": [
    "## 1.3.2 Prepare Data\n",
    "\n",
    "```sh\n",
    "cd data\n",
    "wget \"https://download.pytorch.org/tutorial/hymenoptera_data.zip\"\n",
    "unzip hymenoptera_data\n",
    "```"
   ]
  },
  {
   "cell_type": "markdown",
   "metadata": {},
   "source": [
    "## 1.3.3 Prerequisites\n",
    "\n",
    "```shell\n",
    "# For Arch\n",
    "yay -S python-tqdm\n",
    "```"
   ]
  },
  {
   "cell_type": "markdown",
   "metadata": {},
   "source": [
    "## References\n",
    "\n",
    "* 안경잡이개발자, [ImageNet 데이터셋 소개 및 다운로드하는 방법](https://ndb796.tistory.com/471)\n"
   ]
  }
 ],
 "metadata": {
  "interpreter": {
   "hash": "767d51c1340bd893661ea55ea3124f6de3c7a262a8b4abca0554b478b1e2ff90"
  },
  "kernelspec": {
   "display_name": "Python 3",
   "language": "python",
   "name": "python3"
  },
  "language_info": {
   "codemirror_mode": {
    "name": "ipython",
    "version": 3
   },
   "file_extension": ".py",
   "mimetype": "text/x-python",
   "name": "python",
   "nbconvert_exporter": "python",
   "pygments_lexer": "ipython3",
   "version": "3.9.6"
  }
 },
 "nbformat": 4,
 "nbformat_minor": 2
}
